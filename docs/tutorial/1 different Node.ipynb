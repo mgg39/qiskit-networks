{
 "cells": [
  {
   "cell_type": "code",
   "execution_count": null,
   "metadata": {},
   "outputs": [],
   "source": []
  }
 ],
 "metadata": {
  "kernelspec": {
   "display_name": "Python 3.10.0 64-bit",
   "language": "python",
   "name": "python3"
  },
  "language_info": {
   "name": "python",
   "version": "3.10.0"
  },
  "orig_nbformat": 4,
  "vscode": {
   "interpreter": {
    "hash": "0cc6fef2abb65beb60a121de5f4f89280da74c656e642b572c90966ff10b4cc0"
   }
  }
 },
 "nbformat": 4,
 "nbformat_minor": 2
}
